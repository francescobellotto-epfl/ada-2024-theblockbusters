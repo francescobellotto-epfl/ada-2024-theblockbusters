{
 "cells": [
  {
   "cell_type": "markdown",
   "metadata": {},
   "source": [
    "# Filtering of IMDB dataset\n",
    "\n",
    "In this notebook, we filter the [IMDB Non-Commercial Datasets](https://developer.imdb.com/non-commercial-datasets/) to remove all the titles that are not movies and all the people that did not work in any movie.\\\n",
    "Since the complete dataset does not fit in memory, after processing each part we deallocate it before importing new data."
   ]
  },
  {
   "cell_type": "code",
   "execution_count": 1,
   "metadata": {},
   "outputs": [],
   "source": [
    "import pandas as pd\n",
    "\n",
    "DATA_PATH = \"./../../Data/\""
   ]
  },
  {
   "cell_type": "code",
   "execution_count": 2,
   "metadata": {},
   "outputs": [],
   "source": [
    "# Filter out non-movie entries from \"title.basics.tsv\"\n",
    "\n",
    "title_basics = pd.read_csv(DATA_PATH + \"title.basics.tsv\", sep='\\t',  na_values=\"\\\\N\")\n",
    "title_basics[title_basics[\"titleType\"].isin([\"movie\", \"tvMovie\"])].to_csv(DATA_PATH + \"title.basics.onlymovies.tsv\", sep='\\t', index=False)"
   ]
  },
  {
   "cell_type": "code",
   "execution_count": 51,
   "metadata": {},
   "outputs": [],
   "source": [
    "# Define a set of imdbIDs of movies to use to filter the rest of the data files\n",
    "# Filter \"title.crew.tsv\"\n",
    "\n",
    "del title_basics\n",
    "title_basics = pd.read_csv(DATA_PATH + \"title.basics.onlymovies.tsv\", sep='\\t')\n",
    "titles = set(title_basics[\"tconst\"])\n",
    "del title_basics\n",
    "\n",
    "title_crew = pd.read_csv(DATA_PATH + \"title.crew.tsv\", sep='\\t',  na_values=\"\\\\N\")\n",
    "title_crew[title_crew[\"tconst\"].isin(titles)].to_csv(DATA_PATH + \"title.crew.onlymovies.tsv\", sep='\\t', index=False)"
   ]
  },
  {
   "cell_type": "code",
   "execution_count": 52,
   "metadata": {},
   "outputs": [],
   "source": [
    "# Start defining a set of imdbIDs of people to use to filter \"name.basics.tsv\"\n",
    "# Filter \"title.principals.tsv\"\n",
    "\n",
    "del title_crew\n",
    "title_crew = pd.read_csv(DATA_PATH + \"title.crew.onlymovies.tsv\", sep='\\t',  na_values=\"\\\\N\")\n",
    "people = set(title_crew[\"directors\"]).union(set(title_crew[\"writers\"]))\n",
    "del title_crew\n",
    "\n",
    "title_principals = pd.read_csv(DATA_PATH + \"title.principals.tsv\", sep='\\t',  na_values=\"\\\\N\")\n",
    "title_principals[title_principals[\"tconst\"].isin(titles)].to_csv(DATA_PATH + \"title.principals.onlymovies.tsv\", sep='\\t', index=False)"
   ]
  },
  {
   "cell_type": "code",
   "execution_count": 56,
   "metadata": {},
   "outputs": [],
   "source": [
    "# Finish defining a set of imdbIDs of people to use to filter \"name.basics.tsv\"\n",
    "# Filter \"title.ratings.tsv\"\n",
    "\n",
    "del title_principals\n",
    "title_principals = pd.read_csv(DATA_PATH + \"title.principals.onlymovies.tsv\", sep='\\t',  na_values=\"\\\\N\")\n",
    "people = people.union(set(title_principals[\"nconst\"]))\n",
    "del title_principals\n",
    "\n",
    "title_ratings = pd.read_csv(DATA_PATH + \"title.ratings.tsv\", sep='\\t',  na_values=\"\\\\N\")\n",
    "title_ratings[title_ratings[\"tconst\"].isin(titles)].to_csv(DATA_PATH + \"title.ratings.onlymovies.tsv\", sep='\\t', index=False)"
   ]
  },
  {
   "cell_type": "code",
   "execution_count": 58,
   "metadata": {},
   "outputs": [],
   "source": [
    "# Filter \"name.basics.tsv\"\n",
    "\n",
    "del title_ratings\n",
    "\n",
    "name_basics = pd.read_csv(DATA_PATH + \"name.basics.tsv\", sep='\\t',  na_values=\"\\\\N\")\n",
    "name_basics[name_basics[\"nconst\"].isin(people)].to_csv(DATA_PATH + \"name.basics.onlymovies.tsv\", sep='\\t', index=False)"
   ]
  },
  {
   "cell_type": "code",
   "execution_count": 3,
   "metadata": {},
   "outputs": [],
   "source": [
    "# Filter \"title.akas.tsv\"\n",
    "\n",
    "del name_basics\n",
    "\n",
    "title_akas = pd.read_csv(DATA_PATH + \"title.akas.tsv\", sep='\\t',  na_values=\"\\\\N\")\n",
    "title_akas[title_akas[\"titleId\"].isin(titles)].to_csv(DATA_PATH + \"title.akas.onlymovies.tsv\", sep='\\t', index=False)"
   ]
  }
 ],
 "metadata": {
  "kernelspec": {
   "display_name": "Python (ADA_env)",
   "language": "python",
   "name": "ada_env"
  },
  "language_info": {
   "codemirror_mode": {
    "name": "ipython",
    "version": 3
   },
   "file_extension": ".py",
   "mimetype": "text/x-python",
   "name": "python",
   "nbconvert_exporter": "python",
   "pygments_lexer": "ipython3",
   "version": "3.12.3"
  }
 },
 "nbformat": 4,
 "nbformat_minor": 4
}
