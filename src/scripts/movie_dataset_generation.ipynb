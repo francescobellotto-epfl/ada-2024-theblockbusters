{
 "cells": [
  {
   "cell_type": "markdown",
   "metadata": {},
   "source": [
    "# Merge Movie Datasets\n",
    "\n",
    "In this notebook, we merge four distinct movie datasets to create a comprehensive and enriched dataset:\n",
    "\n",
    "1. **MovieSummaries** dataset: Serves as the primary selection of films.\n",
    "2. **TMDB (The Movie Database)** dataset: Provides revenue, budget, and additional metadata. Downloaded from [Kaggle](https://www.kaggle.com/datasets/asaniczka/tmdb-movies-dataset-2023-930k-movies).\n",
    "3. **IMDB Non-Commercial Dataset**: Provides ratings, genres, and other film attributes. Obtained from [IMDB Non-Commercial Datasets](https://developer.imdb.com/non-commercial-datasets/).\n",
    "4. **Wikidata Dataset**: Scraped data providing supplementary information about films.\n",
    "\n",
    "### Merging Process\n",
    "- We first merge **MovieSummaries** with **TMDB**.\n",
    "- Then, we merge the **IMDB** and **Wikidata** datasets.\n",
    "- Finally, the two merged datasets are combined, retaining the selection of films from **MovieSummaries** as the base."
   ]
  },
  {
   "cell_type": "code",
   "execution_count": 1,
   "metadata": {},
   "outputs": [],
   "source": [
    "import pandas as pd\n",
    "import numpy as np\n",
    "import json\n",
    "import unicodedata\n",
    "from datetime import datetime\n",
    "\n",
    "from auxiliary_functions_for_merging import *\n",
    "\n",
    "DATA_PATH = \"./../../Data/\""
   ]
  },
  {
   "cell_type": "markdown",
   "metadata": {},
   "source": [
    "# Merge IMDB and TMDB datasets"
   ]
  },
  {
   "cell_type": "code",
   "execution_count": 3,
   "metadata": {},
   "outputs": [],
   "source": [
    "# Import and clean IMDB dataset, create key movieTitle_year\n",
    "\n",
    "title_basics = pd.read_csv(DATA_PATH + \"title.basics.onlymovies.tsv\", sep='\\t').drop(columns=[\"titleType\", \"endYear\"])\n",
    "title_basics = title_basics[title_basics[\"isAdult\"] == 0].drop(columns=[\"isAdult\"])\n",
    "title_basics[\"startYear\"] = title_basics[\"startYear\"].apply(lambda x: pd.NA if pd.isna(x) else int(x))\n",
    "title_basics[\"runtimeMinutes\"] = title_basics[\"runtimeMinutes\"].apply(lambda x: pd.NA if pd.isna(x) else int(x))\n",
    "title_basics[\"genres\"] = title_basics[\"genres\"].apply(lambda x: pd.NA if pd.isna(x) else x.lower())\n",
    "\n",
    "title_ratings = pd.read_csv(DATA_PATH + \"title.ratings.onlymovies.tsv\", sep='\\t')\n",
    "title_basics = pd.merge(title_basics, title_ratings, left_on=\"tconst\", right_on=\"tconst\", how=\"left\", suffixes=('', '_rating')).copy(deep=True)\n",
    "title_basics[\"numVotes\"] = title_basics[\"numVotes\"].apply(lambda x: pd.NA if pd.isna(x) else int(x))\n",
    "\n",
    "title_basics[\"title_year_key\"] = create_key_series(title_basics, [\"primaryTitle\", \"startYear\"])\n",
    "duplicate_keys = title_basics[\"title_year_key\"].value_counts()\n",
    "duplicate_keys = duplicate_keys[duplicate_keys > 1].index\n",
    "title_basics[\"title_year_key\"] = title_basics[\"title_year_key\"].apply(lambda x: pd.NA if x in duplicate_keys else x)"
   ]
  },
  {
   "cell_type": "code",
   "execution_count": 4,
   "metadata": {},
   "outputs": [],
   "source": [
    "# Import and clean TMDB dataset, create key movieTitle_year\n",
    "\n",
    "cols = [\"id\", \"title\", \"release_date\", \"revenue\", \"runtime\", \"adult\", \"budget\", \"imdb_id\", \"original_language\",\n",
    "        \"overview\", \"genres\", \"production_companies\", \"production_countries\", \"spoken_languages\", \"keywords\"]\n",
    "\n",
    "TMDB_movie_dataset = pd.read_csv(DATA_PATH + \"TMDB_movie_dataset.csv\")[cols]\n",
    "TMDB_movie_dataset = TMDB_movie_dataset[TMDB_movie_dataset[\"adult\"] == 0].drop(columns=[\"adult\"])\n",
    "TMDB_movie_dataset[\"genres\"] = TMDB_movie_dataset[\"genres\"].apply(lambda x: pd.NA if pd.isna(x) else x.lower().replace(\", \",\",\"))\n",
    "TMDB_movie_dataset[\"year\"] = TMDB_movie_dataset[\"release_date\"].apply(extract_year)\n",
    "TMDB_movie_dataset[\"release_date\"] = TMDB_movie_dataset[\"release_date\"].apply(lambda x: x if is_valid_date(x) else pd.NA)\n",
    "TMDB_movie_dataset[\"production_companies\"] = TMDB_movie_dataset[\"production_companies\"].apply(lambda x: pd.NA if pd.isna(x) else x.replace(\", \",\",\"))\n",
    "TMDB_movie_dataset[\"spoken_languages\"] = TMDB_movie_dataset[\"spoken_languages\"].apply(lambda x: pd.NA if pd.isna(x) else x.replace(\", \",\",\"))\n",
    "TMDB_movie_dataset[\"production_countries\"] = TMDB_movie_dataset[\"production_countries\"].apply(lambda x: pd.NA if pd.isna(x) else x.replace(\", \",\",\"))\n",
    "TMDB_movie_dataset[\"keywords\"] = TMDB_movie_dataset[\"keywords\"].apply(lambda x: pd.NA if pd.isna(x) else x.replace(\", \",\",\"))\n",
    "\n",
    "TMDB_movie_dataset[\"title_year_key\"] = create_key_series(TMDB_movie_dataset, [\"title\", \"year\"])\n",
    "duplicate_keys = TMDB_movie_dataset[\"title_year_key\"].value_counts()\n",
    "duplicate_keys = duplicate_keys[duplicate_keys > 1].index\n",
    "TMDB_movie_dataset[\"title_year_key\"] = TMDB_movie_dataset[\"title_year_key\"].apply(lambda x: pd.NA if x in duplicate_keys else x)"
   ]
  },
  {
   "cell_type": "code",
   "execution_count": 5,
   "metadata": {},
   "outputs": [],
   "source": [
    "# Merge IMDB and TMDB datasets first by imdbID and then using the key movieTitle_year\n",
    "\n",
    "df1 = pd.merge(title_basics, TMDB_movie_dataset, left_on=\"tconst\", right_on=\"imdb_id\", how=\"inner\", suffixes=('_IMDB', '_TMDB'))\n",
    "rest_of_title_basics = title_basics[~title_basics[\"tconst\"].isin(df1[\"tconst\"])].dropna(subset=[\"title_year_key\"])\n",
    "df2 = pd.merge(rest_of_title_basics, TMDB_movie_dataset, left_on=\"title_year_key\", right_on=\"title_year_key\", how=\"left\", suffixes=('_IMDB', '_TMDB'))\n",
    "\n",
    "movies_IMDB_TMDB = pd.concat([df1, df2]).drop(columns=[\"title_year_key\", \"title_year_key_IMDB\", \"title_year_key_TMDB\"])"
   ]
  },
  {
   "cell_type": "code",
   "execution_count": 6,
   "metadata": {},
   "outputs": [],
   "source": [
    "# Combine columns that provide the same information\n",
    "\n",
    "movies_IMDB_TMDB[\"startYear\"] = movies_IMDB_TMDB.apply(lambda row: row[\"year\"] if pd.isna(row[\"startYear\"]) else row[\"startYear\"], axis=1)\n",
    "movies_IMDB_TMDB[\"runtimeMinutes\"] = movies_IMDB_TMDB.apply(lambda row: row[\"runtime\"] if pd.isna(row[\"runtimeMinutes\"]) else row[\"runtimeMinutes\"], axis=1)\n",
    "movies_IMDB_TMDB[\"genres\"] = movies_IMDB_TMDB.apply(lambda row: merge_comma_sep(row[\"genres_IMDB\"], row[\"genres_TMDB\"]), axis=1)\n",
    "tresh = 50\n",
    "movies_IMDB_TMDB[\"budget\"] = movies_IMDB_TMDB[\"budget\"].apply(lambda x: pd.NA if pd.isna(x) or x<=tresh else x)\n",
    "movies_IMDB_TMDB[\"revenue\"] = movies_IMDB_TMDB[\"revenue\"].apply(lambda x: pd.NA if pd.isna(x) or x<=tresh else x)"
   ]
  },
  {
   "cell_type": "code",
   "execution_count": 7,
   "metadata": {},
   "outputs": [],
   "source": [
    "# Export the combined dataset\n",
    "\n",
    "cols = ['tconst', 'id', 'primaryTitle', 'originalTitle', 'release_date', 'startYear',\n",
    "       'runtimeMinutes', 'original_language', 'spoken_languages', 'production_countries', 'genres', 'averageRating', 'numVotes', \n",
    "        'budget', 'revenue', 'production_companies', 'overview', 'keywords']\n",
    "renamed_cols = {\n",
    "    'tconst': 'imdb_id_movie',\n",
    "    'id': 'tmdb_id_movie',\n",
    "    'primaryTitle': 'primaryTitle',\n",
    "    'originalTitle': 'originalTitle',\n",
    "    'release_date': 'release_date',\n",
    "    'startYear': 'release_year',\n",
    "    'runtimeMinutes': 'runtimeMinutes',\n",
    "    'original_language': 'original_language',\n",
    "    'spoken_languages': 'spoken_languages',\n",
    "    'production_countries': 'production_countries',\n",
    "    'genres': 'genres',\n",
    "    'averageRating': 'rating_imdb',\n",
    "    'numVotes': 'numVotes_imdb',\n",
    "    'budget': 'budget',\n",
    "    'revenue': 'revenue',\n",
    "    'production_companies': 'production_companies',\n",
    "    'overview': 'overview_tmdb',\n",
    "    'keywords': 'keywords_tmdb'\n",
    "}\n",
    "\n",
    "movies_IMDB_TMDB = movies_IMDB_TMDB[cols].rename(columns=renamed_cols)\n",
    "\n",
    "movies_IMDB_TMDB.to_csv(DATA_PATH + \"movies_imdb_tmdb.tsv\", sep='\\t', index=False)"
   ]
  },
  {
   "cell_type": "markdown",
   "metadata": {},
   "source": [
    "# Merge MovieSummaries and Wikidata datasets"
   ]
  },
  {
   "cell_type": "code",
   "execution_count": 8,
   "metadata": {},
   "outputs": [],
   "source": [
    "# Import and clean MovieSummaries dataset, create key movieTitle_year\n",
    "\n",
    "cols = [\"wikipedia_id_movie\", \"freebase_id_movie\", \"title\", \"release_date\", \"revenue\", \"runtimeMinutes\",\n",
    "                       \"Movie languages (Freebase ID:name tuples)\", \"Movie countries (Freebase ID:name tuples)\",\n",
    "                       \"Movie genres (Freebase ID:name tuples)\"]\n",
    "movies_original = pd.read_csv(DATA_PATH + 'movie.metadata.tsv', sep='\\t', header=None, names=cols).drop(columns=\"revenue\")\n",
    "\n",
    "movies_original[\"genres\"] = movies_original[\"Movie genres (Freebase ID:name tuples)\"].apply(extract_from_tuple).apply(lowercase)\n",
    "movies_original[\"languages\"] = movies_original[\"Movie languages (Freebase ID:name tuples)\"].apply(extract_from_tuple).apply(lowercase).apply(remove_language)\n",
    "movies_original[\"countries\"] = movies_original[\"Movie countries (Freebase ID:name tuples)\"].apply(extract_from_tuple)\n",
    "\n",
    "movies_original = movies_original.drop(columns=[\"Movie genres (Freebase ID:name tuples)\", \"Movie languages (Freebase ID:name tuples)\", \"Movie countries (Freebase ID:name tuples)\"])\n",
    "movies_original[\"release_year\"] = movies_original[\"release_date\"].apply(extract_year)\n",
    "movies_original[\"release_date\"] = movies_original[\"release_date\"].apply(lambda x: x if is_valid_date(x) else pd.NA)\n",
    "movies_original[\"runtimeMinutes\"] = movies_original[\"runtimeMinutes\"].apply(lambda x: pd.NA if pd.isna(x) else int(x))\n",
    "\n",
    "movies_original[\"title_year_key\"] = create_key_series(movies_original, [\"title\", \"release_year\"])\n",
    "duplicate_keys = movies_original[\"title_year_key\"].value_counts()\n",
    "duplicate_keys = duplicate_keys[duplicate_keys > 1].index\n",
    "movies_original[\"title_year_key\"] = movies_original[\"title_year_key\"].apply(lambda x: pd.NA if x in duplicate_keys else x)"
   ]
  },
  {
   "cell_type": "code",
   "execution_count": 12,
   "metadata": {},
   "outputs": [],
   "source": [
    "# Import and clean Wikidata dataset, create key movieTitle_year\n",
    "\n",
    "movies_wikidata = pd.read_csv(DATA_PATH + \"wikidata_freebaseID_imdbID.csv\", dtype={0: str})\n",
    "\n",
    "movies_wikidata[\"releaseDate\"] = movies_wikidata[\"releaseDate\"].apply(select_releaseDate)\n",
    "movies_wikidata[\"year\"] = movies_wikidata[\"releaseDate\"].apply(extract_year)\n",
    "movies_wikidata[\"year\"] = movies_wikidata.apply(lambda row: extract_year(row[\"description\"]) if pd.isna(row[\"year\"]) else row[\"year\"], axis=1)\n",
    "movies_wikidata[\"releaseDate\"] = movies_wikidata[\"releaseDate\"].apply(lambda x: x if is_valid_date(x) else pd.NA)\n",
    "movies_wikidata[\"releaseDate\"] = movies_wikidata[\"releaseDate\"].apply(lambda x: x if is_valid_date(x) else pd.NA)\n",
    "movies_wikidata[\"languages\"] = movies_wikidata[\"languages\"].apply(lowercase)\n",
    "\n",
    "movies_wikidata[\"title_year_key\"] = create_key_series(movies_wikidata, [\"title\", \"year\"])\n",
    "duplicate_keys = movies_wikidata[\"title_year_key\"].value_counts()\n",
    "duplicate_keys = duplicate_keys[duplicate_keys > 1].index\n",
    "movies_wikidata[\"title_year_key\"] = movies_wikidata[\"title_year_key\"].apply(lambda x: pd.NA if x in duplicate_keys else x)"
   ]
  },
  {
   "cell_type": "code",
   "execution_count": 13,
   "metadata": {},
   "outputs": [],
   "source": [
    "# Merge IMDB and TMDB datasets first by freebaseID and then using the key movieTitle_year\n",
    "\n",
    "df1 = pd.merge(movies_original, movies_wikidata, left_on=\"freebase_id_movie\", right_on=\"freebaseID\", how=\"inner\", suffixes=('', '_wikidata'))\n",
    "rest_of_movies_original = movies_original[~movies_original[\"freebase_id_movie\"].isin(df1[\"freebase_id_movie\"])].dropna(subset=[\"title_year_key\"])\n",
    "df2 = pd.merge(rest_of_movies_original, movies_wikidata, left_on=\"title_year_key\", right_on=\"title_year_key\", how=\"left\", suffixes=('', '_wikidata'))\n",
    "\n",
    "movies_orig_wiki = pd.concat([df1, df2]).drop(columns=[\"title_year_key\", \"title_year_key_wikidata\", \"title_wikidata\"])"
   ]
  },
  {
   "cell_type": "code",
   "execution_count": 14,
   "metadata": {},
   "outputs": [],
   "source": [
    "# Combine columns that provide the same information\n",
    "\n",
    "movies_orig_wiki[\"release_date\"] = movies_orig_wiki.apply(lambda row: row[\"releaseDate\"] if pd.isna(row[\"release_date\"]) else row[\"release_date\"], axis=1)\n",
    "movies_orig_wiki[\"release_year\"] = movies_orig_wiki.apply(lambda row: row[\"year\"] if pd.isna(row[\"release_year\"]) else row[\"release_year\"], axis=1)\n",
    "movies_orig_wiki[\"runtimeMinutes\"] = movies_orig_wiki.apply(lambda row: row[\"runtime\"] if pd.isna(row[\"runtimeMinutes\"]) else row[\"runtimeMinutes\"], axis=1)\n",
    "movies_orig_wiki[\"languages\"] = movies_orig_wiki.apply(lambda row: merge_comma_sep(row[\"languages\"], row[\"languages_wikidata\"]), axis=1)\n",
    "movies_orig_wiki[\"countries\"] = movies_orig_wiki.apply(lambda row: merge_comma_sep(row[\"countries\"], row[\"countries_wikidata\"]), axis=1)"
   ]
  },
  {
   "cell_type": "code",
   "execution_count": 15,
   "metadata": {},
   "outputs": [],
   "source": [
    "# Export the combined dataset\n",
    "\n",
    "cols = ['freebase_id_movie', 'wikidataID', 'wikipedia_id_movie', 'imdbID', 'wikipediaLink', 'title', 'description', 'release_date',\n",
    "        'release_year', 'runtimeMinutes', 'languages', 'countries', 'genres', 'genres_wikidata', 'productionCompanies']\n",
    "\n",
    "renamed_cols = {\n",
    "    'freebase_id_movie': 'freebase_id_movie',\n",
    "    'wikidataID': 'wikidata_id_movie',\n",
    "    'wikipedia_id_movie': 'wikipedia_id_movie',\n",
    "    'imdbID': 'imdb_id_movie',\n",
    "    'wikipediaLink': 'wikipediaLink',\n",
    "    'title': 'title',\n",
    "    'runtimeMinutes': 'runtimeMinutes',\n",
    "    'description': 'description_wikidata',\n",
    "    'release_date': 'release_date',\n",
    "    'release_year': 'release_year',\n",
    "    'runtimeMinutes': 'runtimeMinutes',\n",
    "    'languages': 'languages',\n",
    "    'countries': 'countries',\n",
    "    'genres': 'genres_original',\n",
    "    'genres_wikidata': 'genres_wikidata',\n",
    "    'productionCompanies': 'production_companies'\n",
    "}\n",
    "\n",
    "movies_orig_wiki = movies_orig_wiki[cols].rename(columns=renamed_cols)\n",
    "\n",
    "movies_orig_wiki.to_csv(DATA_PATH + \"movies_orig_wiki.tsv\", sep='\\t', index=False)"
   ]
  },
  {
   "cell_type": "markdown",
   "metadata": {},
   "source": [
    "# Merge IMDB-TMDB and MovieSummaries-Wikidata datasets"
   ]
  },
  {
   "cell_type": "code",
   "execution_count": null,
   "metadata": {},
   "outputs": [],
   "source": [
    "# Import MovieSummaries-Wikidata dataset, create key movieTitle_year\n",
    "\n",
    "movies_orig_wiki = pd.read_csv(DATA_PATH + \"movies_orig_wiki.tsv\", sep='\\t')\n",
    "\n",
    "movies_orig_wiki[\"release_year\"] = movies_orig_wiki[\"release_year\"].apply(lambda x: pd.NA if pd.isna(x) else int(x))\n",
    "\n",
    "movies_orig_wiki[\"title_year_key\"] = create_key_series(movies_orig_wiki, [\"title\", \"release_year\"])\n",
    "duplicate_keys = movies_orig_wiki[\"title_year_key\"].value_counts()\n",
    "duplicate_keys = duplicate_keys[duplicate_keys > 1].index\n",
    "movies_orig_wiki[\"title_year_key\"] = movies_orig_wiki[\"title_year_key\"].apply(lambda x: pd.NA if x in duplicate_keys else x)"
   ]
  },
  {
   "cell_type": "code",
   "execution_count": 30,
   "metadata": {},
   "outputs": [],
   "source": [
    "# Import IMDB-TMDB dataset, create key movieTitle_year\n",
    "\n",
    "movies_IMDB_TMDB = pd.read_csv(DATA_PATH + \"movies_imdb_tmdb.tsv\", sep='\\t')\n",
    "\n",
    "movies_IMDB_TMDB[\"release_year\"] = movies_IMDB_TMDB[\"release_year\"].apply(lambda x: pd.NA if pd.isna(x) else int(x))\n",
    "movies_IMDB_TMDB[\"spoken_languages\"] = movies_IMDB_TMDB[\"spoken_languages\"].apply(lowercase)\n",
    "\n",
    "movies_IMDB_TMDB[\"title_year_key\"] = create_key_series(movies_IMDB_TMDB, [\"primaryTitle\", \"release_year\"])\n",
    "duplicate_keys = movies_IMDB_TMDB[\"title_year_key\"].value_counts()\n",
    "duplicate_keys = duplicate_keys[duplicate_keys > 1].index\n",
    "movies_IMDB_TMDB[\"title_year_key\"] = movies_IMDB_TMDB[\"title_year_key\"].apply(lambda x: pd.NA if x in duplicate_keys else x)"
   ]
  },
  {
   "cell_type": "code",
   "execution_count": 31,
   "metadata": {},
   "outputs": [],
   "source": [
    "# Merge IMDB-TMDB and MovieSummaries-Wikidata datasets first by imdbID and then using the key movieTitle_year\n",
    "\n",
    "df1 = pd.merge(movies_orig_wiki, movies_IMDB_TMDB, left_on=\"imdb_id_movie\", right_on=\"imdb_id_movie\", how=\"inner\", suffixes=('', '_IMDB_TMDB'))\n",
    "rest_of_movies_orig_wiki = movies_orig_wiki[~movies_orig_wiki[\"imdb_id_movie\"].isin(df1[\"imdb_id_movie\"])].dropna(subset=[\"title_year_key\"])\n",
    "df2 = pd.merge(rest_of_movies_orig_wiki, movies_IMDB_TMDB, left_on=\"title_year_key\", right_on=\"title_year_key\", how=\"left\", suffixes=('', '_IMDB_TMDB'))\n",
    "\n",
    "movies_complete = pd.concat([df1, df2]).drop(columns=[\"title_year_key\", \"title_year_key_IMDB_TMDB\"])"
   ]
  },
  {
   "cell_type": "code",
   "execution_count": 32,
   "metadata": {},
   "outputs": [],
   "source": [
    "# Combine columns that provide the same information\n",
    "\n",
    "movies_complete[\"imdb_id_movie\"] = movies_complete.apply(lambda row: row[\"imdb_id_movie_IMDB_TMDB\"] if pd.isna(row[\"imdb_id_movie\"]) else row[\"imdb_id_movie\"], axis=1)\n",
    "movies_complete[\"primaryTitle\"] = movies_complete.apply(lambda row: row[\"title\"] if pd.isna(row[\"primaryTitle\"]) else row[\"primaryTitle\"], axis=1)\n",
    "movies_complete[\"release_date\"] = movies_complete.apply(lambda row: row[\"release_date\"] if pd.isna(row[\"release_date_IMDB_TMDB\"]) else row[\"release_date_IMDB_TMDB\"], axis=1)\n",
    "movies_complete[\"release_year\"] = movies_complete.apply(lambda row: row[\"release_year\"] if pd.isna(row[\"release_year_IMDB_TMDB\"]) else row[\"release_year_IMDB_TMDB\"], axis=1)\n",
    "movies_complete[\"runtimeMinutes\"] = movies_complete.apply(lambda row: row[\"runtimeMinutes\"] if pd.isna(row[\"runtimeMinutes_IMDB_TMDB\"]) else row[\"runtimeMinutes_IMDB_TMDB\"], axis=1)\n",
    "\n",
    "movies_complete[\"languages\"] = movies_complete.apply(lambda row: merge_comma_sep(row[\"languages\"], row[\"spoken_languages\"]), axis=1)\n",
    "movies_complete[\"production_companies\"] = movies_complete.apply(lambda row: merge_comma_sep(row[\"production_companies\"], row[\"production_companies_IMDB_TMDB\"]), axis=1)"
   ]
  },
  {
   "cell_type": "code",
   "execution_count": 33,
   "metadata": {},
   "outputs": [],
   "source": [
    "# Export the combined dataset\n",
    "\n",
    "cols = ['freebase_id_movie', 'wikidata_id_movie', 'wikipedia_id_movie',\n",
    "       'imdb_id_movie', 'tmdb_id_movie', 'wikipediaLink', 'primaryTitle', 'originalTitle', 'description_wikidata',\n",
    "       'release_date', 'release_year', 'runtimeMinutes', 'original_language', 'languages',\n",
    "       'countries', 'genres_original', 'genres_wikidata', 'genres', 'rating_imdb', 'numVotes_imdb',\n",
    "       'budget', 'revenue', 'production_companies', 'overview_tmdb', 'keywords_tmdb']\n",
    "\n",
    "renamed_cols = {\n",
    "    'genres': 'genres_IMDB_TMDB',\n",
    "}\n",
    "\n",
    "movies_complete = movies_complete[cols].rename(columns=renamed_cols).dropna(subset=['release_year'])\n",
    "\n",
    "movies_complete.to_csv(DATA_PATH + \"movies_complete.tsv\", sep='\\t', index=False)"
   ]
  }
 ],
 "metadata": {
  "kernelspec": {
   "display_name": "Python (ADA_env)",
   "language": "python",
   "name": "ada_env"
  },
  "language_info": {
   "codemirror_mode": {
    "name": "ipython",
    "version": 3
   },
   "file_extension": ".py",
   "mimetype": "text/x-python",
   "name": "python",
   "nbconvert_exporter": "python",
   "pygments_lexer": "ipython3",
   "version": "3.12.3"
  }
 },
 "nbformat": 4,
 "nbformat_minor": 4
}
